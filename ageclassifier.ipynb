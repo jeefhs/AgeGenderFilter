{
 "cells": [
  {
   "attachments": {},
   "cell_type": "markdown",
   "metadata": {},
   "source": [
    "We have the same procedure as the genderclassifier for the data preparation step."
   ]
  },
  {
   "cell_type": "code",
   "execution_count": 201,
   "metadata": {},
   "outputs": [],
   "source": [
    "import numpy as np\n",
    "import pandas as pd\n",
    "# The following two modules matplotlib and seaborn are for plots\n",
    "import matplotlib.pyplot as plt\n",
    "import seaborn as sns # Comment this if seaborn is not installed\n",
    "%matplotlib inline\n",
    "# The module re is for regular expressions\n",
    "import re"
   ]
  },
  {
   "cell_type": "code",
   "execution_count": 202,
   "metadata": {},
   "outputs": [
    {
     "data": {
      "text/html": [
       "<div>\n",
       "<style scoped>\n",
       "    .dataframe tbody tr th:only-of-type {\n",
       "        vertical-align: middle;\n",
       "    }\n",
       "\n",
       "    .dataframe tbody tr th {\n",
       "        vertical-align: top;\n",
       "    }\n",
       "\n",
       "    .dataframe thead th {\n",
       "        text-align: right;\n",
       "    }\n",
       "</style>\n",
       "<table border=\"1\" class=\"dataframe\">\n",
       "  <thead>\n",
       "    <tr style=\"text-align: right;\">\n",
       "      <th></th>\n",
       "      <th>age</th>\n",
       "      <th>gender</th>\n",
       "      <th>pixels</th>\n",
       "    </tr>\n",
       "  </thead>\n",
       "  <tbody>\n",
       "    <tr>\n",
       "      <th>0</th>\n",
       "      <td>1</td>\n",
       "      <td>0</td>\n",
       "      <td>[[129.0, 128.0, 128.0, 126.0, 127.0, 130.0, 13...</td>\n",
       "    </tr>\n",
       "    <tr>\n",
       "      <th>1</th>\n",
       "      <td>1</td>\n",
       "      <td>0</td>\n",
       "      <td>[[164.0, 74.0, 111.0, 168.0, 169.0, 171.0, 175...</td>\n",
       "    </tr>\n",
       "    <tr>\n",
       "      <th>2</th>\n",
       "      <td>1</td>\n",
       "      <td>0</td>\n",
       "      <td>[[67.0, 70.0, 71.0, 70.0, 69.0, 67.0, 70.0, 79...</td>\n",
       "    </tr>\n",
       "    <tr>\n",
       "      <th>3</th>\n",
       "      <td>1</td>\n",
       "      <td>0</td>\n",
       "      <td>[[193.0, 197.0, 198.0, 200.0, 199.0, 200.0, 20...</td>\n",
       "    </tr>\n",
       "    <tr>\n",
       "      <th>4</th>\n",
       "      <td>1</td>\n",
       "      <td>0</td>\n",
       "      <td>[[202.0, 205.0, 209.0, 210.0, 209.0, 209.0, 21...</td>\n",
       "    </tr>\n",
       "  </tbody>\n",
       "</table>\n",
       "</div>"
      ],
      "text/plain": [
       "   age  gender                                             pixels\n",
       "0    1       0  [[129.0, 128.0, 128.0, 126.0, 127.0, 130.0, 13...\n",
       "1    1       0  [[164.0, 74.0, 111.0, 168.0, 169.0, 171.0, 175...\n",
       "2    1       0  [[67.0, 70.0, 71.0, 70.0, 69.0, 67.0, 70.0, 79...\n",
       "3    1       0  [[193.0, 197.0, 198.0, 200.0, 199.0, 200.0, 20...\n",
       "4    1       0  [[202.0, 205.0, 209.0, 210.0, 209.0, 209.0, 21..."
      ]
     },
     "execution_count": 202,
     "metadata": {},
     "output_type": "execute_result"
    }
   ],
   "source": [
    "def stringToArray(pixels):\n",
    "    # this converts the string array into a 48x48 numpy array containing the image\n",
    "    # needed because the datasets converts the pixel array into string form\n",
    "    pixels = pixels + \" \"\n",
    "    pixelArray = np.array([])\n",
    "    lenPixels = len(pixels)\n",
    "    i = 0\n",
    "    num = \"\"\n",
    "    while i < lenPixels:\n",
    "        if pixels[i] != \" \":\n",
    "            num += pixels[i]\n",
    "        else:\n",
    "            pixelArray = np.append(pixelArray, [int(num)])\n",
    "            num = \"\"\n",
    "        i += 1\n",
    "\n",
    "    imageArray = np.reshape(pixelArray,(48,48))\n",
    "    return imageArray\n",
    "df = pd.read_csv('age_gender.csv')\n",
    "df[\"pixels\"] = df[\"pixels\"].map(stringToArray)\n",
    "df = df.drop(\"img_name\", axis = 1)\n",
    "df = df.drop(\"ethnicity\", axis = 1)\n",
    "df.head()\n"
   ]
  },
  {
   "attachments": {},
   "cell_type": "markdown",
   "metadata": {},
   "source": [
    "We need to create classes of ages, and map the age column using this function\n",
    "\n",
    "We'll remember the encoding\n",
    "\n",
    "child: 0\n",
    "\n",
    "teenager: 1\n",
    "\n",
    "young adult: 2\n",
    "\n",
    "adult: 3\n",
    "\n",
    "elder: 4"
   ]
  },
  {
   "cell_type": "code",
   "execution_count": 203,
   "metadata": {},
   "outputs": [],
   "source": [
    "def ageGroup(age):\n",
    "    if 0 <= age and age <= 9:\n",
    "        return 0\n",
    "    if 10 <= age and age <= 19:\n",
    "        return 1\n",
    "    if 20 <= age and age <= 30:\n",
    "        return 2\n",
    "    if 31 <= age and age <= 60:\n",
    "        return 3\n",
    "    if 61 <= age:\n",
    "        return 4\n"
   ]
  },
  {
   "cell_type": "code",
   "execution_count": 204,
   "metadata": {},
   "outputs": [],
   "source": [
    "df[\"age\"] = df[\"age\"].map(ageGroup)"
   ]
  },
  {
   "cell_type": "code",
   "execution_count": 205,
   "metadata": {},
   "outputs": [
    {
     "data": {
      "text/html": [
       "<div>\n",
       "<style scoped>\n",
       "    .dataframe tbody tr th:only-of-type {\n",
       "        vertical-align: middle;\n",
       "    }\n",
       "\n",
       "    .dataframe tbody tr th {\n",
       "        vertical-align: top;\n",
       "    }\n",
       "\n",
       "    .dataframe thead th {\n",
       "        text-align: right;\n",
       "    }\n",
       "</style>\n",
       "<table border=\"1\" class=\"dataframe\">\n",
       "  <thead>\n",
       "    <tr style=\"text-align: right;\">\n",
       "      <th></th>\n",
       "      <th>age</th>\n",
       "      <th>gender</th>\n",
       "      <th>pixels</th>\n",
       "    </tr>\n",
       "  </thead>\n",
       "  <tbody>\n",
       "    <tr>\n",
       "      <th>0</th>\n",
       "      <td>0</td>\n",
       "      <td>0</td>\n",
       "      <td>[[129.0, 128.0, 128.0, 126.0, 127.0, 130.0, 13...</td>\n",
       "    </tr>\n",
       "    <tr>\n",
       "      <th>1</th>\n",
       "      <td>0</td>\n",
       "      <td>0</td>\n",
       "      <td>[[164.0, 74.0, 111.0, 168.0, 169.0, 171.0, 175...</td>\n",
       "    </tr>\n",
       "    <tr>\n",
       "      <th>2</th>\n",
       "      <td>0</td>\n",
       "      <td>0</td>\n",
       "      <td>[[67.0, 70.0, 71.0, 70.0, 69.0, 67.0, 70.0, 79...</td>\n",
       "    </tr>\n",
       "    <tr>\n",
       "      <th>3</th>\n",
       "      <td>0</td>\n",
       "      <td>0</td>\n",
       "      <td>[[193.0, 197.0, 198.0, 200.0, 199.0, 200.0, 20...</td>\n",
       "    </tr>\n",
       "    <tr>\n",
       "      <th>4</th>\n",
       "      <td>0</td>\n",
       "      <td>0</td>\n",
       "      <td>[[202.0, 205.0, 209.0, 210.0, 209.0, 209.0, 21...</td>\n",
       "    </tr>\n",
       "    <tr>\n",
       "      <th>...</th>\n",
       "      <td>...</td>\n",
       "      <td>...</td>\n",
       "      <td>...</td>\n",
       "    </tr>\n",
       "    <tr>\n",
       "      <th>23700</th>\n",
       "      <td>4</td>\n",
       "      <td>1</td>\n",
       "      <td>[[127.0, 100.0, 94.0, 81.0, 77.0, 77.0, 74.0, ...</td>\n",
       "    </tr>\n",
       "    <tr>\n",
       "      <th>23701</th>\n",
       "      <td>4</td>\n",
       "      <td>1</td>\n",
       "      <td>[[23.0, 28.0, 32.0, 35.0, 42.0, 47.0, 68.0, 85...</td>\n",
       "    </tr>\n",
       "    <tr>\n",
       "      <th>23702</th>\n",
       "      <td>4</td>\n",
       "      <td>1</td>\n",
       "      <td>[[59.0, 50.0, 37.0, 40.0, 34.0, 19.0, 30.0, 10...</td>\n",
       "    </tr>\n",
       "    <tr>\n",
       "      <th>23703</th>\n",
       "      <td>4</td>\n",
       "      <td>1</td>\n",
       "      <td>[[45.0, 108.0, 120.0, 156.0, 206.0, 197.0, 140...</td>\n",
       "    </tr>\n",
       "    <tr>\n",
       "      <th>23704</th>\n",
       "      <td>4</td>\n",
       "      <td>1</td>\n",
       "      <td>[[156.0, 161.0, 160.0, 165.0, 170.0, 173.0, 16...</td>\n",
       "    </tr>\n",
       "  </tbody>\n",
       "</table>\n",
       "<p>23705 rows × 3 columns</p>\n",
       "</div>"
      ],
      "text/plain": [
       "       age  gender                                             pixels\n",
       "0        0       0  [[129.0, 128.0, 128.0, 126.0, 127.0, 130.0, 13...\n",
       "1        0       0  [[164.0, 74.0, 111.0, 168.0, 169.0, 171.0, 175...\n",
       "2        0       0  [[67.0, 70.0, 71.0, 70.0, 69.0, 67.0, 70.0, 79...\n",
       "3        0       0  [[193.0, 197.0, 198.0, 200.0, 199.0, 200.0, 20...\n",
       "4        0       0  [[202.0, 205.0, 209.0, 210.0, 209.0, 209.0, 21...\n",
       "...    ...     ...                                                ...\n",
       "23700    4       1  [[127.0, 100.0, 94.0, 81.0, 77.0, 77.0, 74.0, ...\n",
       "23701    4       1  [[23.0, 28.0, 32.0, 35.0, 42.0, 47.0, 68.0, 85...\n",
       "23702    4       1  [[59.0, 50.0, 37.0, 40.0, 34.0, 19.0, 30.0, 10...\n",
       "23703    4       1  [[45.0, 108.0, 120.0, 156.0, 206.0, 197.0, 140...\n",
       "23704    4       1  [[156.0, 161.0, 160.0, 165.0, 170.0, 173.0, 16...\n",
       "\n",
       "[23705 rows x 3 columns]"
      ]
     },
     "execution_count": 205,
     "metadata": {},
     "output_type": "execute_result"
    }
   ],
   "source": [
    "df"
   ]
  },
  {
   "cell_type": "code",
   "execution_count": 206,
   "metadata": {},
   "outputs": [
    {
     "data": {
      "text/plain": [
       "3    8649\n",
       "2    8068\n",
       "0    3062\n",
       "4    2395\n",
       "1    1531\n",
       "Name: age, dtype: int64"
      ]
     },
     "execution_count": 206,
     "metadata": {},
     "output_type": "execute_result"
    }
   ],
   "source": [
    "df[\"age\"].value_counts()"
   ]
  },
  {
   "cell_type": "code",
   "execution_count": 207,
   "metadata": {},
   "outputs": [],
   "source": [
    "from sklearn.model_selection import train_test_split\n",
    "from keras.utils import to_categorical\n",
    "num_classes = 5\n",
    "# default is 75% / 25% train-test split\n",
    "X = df['pixels'].values\n",
    "y = df['age'].values\n",
    "X_train, X_valid, y_train, y_valid = train_test_split(X, y, random_state=0)\n",
    "X_train = X_train.tolist()\n",
    "X_train = np.asarray(X_train)\n",
    "X_train = X_train.astype('float32')\n",
    "X_valid = X_valid.tolist()\n",
    "X_valid = np.asarray(X_valid)\n",
    "X_valid = X_valid.astype('float32')\n",
    "\n"
   ]
  },
  {
   "cell_type": "code",
   "execution_count": 208,
   "metadata": {},
   "outputs": [
    {
     "data": {
      "text/plain": [
       "array([3, 2, 1, ..., 2, 0, 0])"
      ]
     },
     "execution_count": 208,
     "metadata": {},
     "output_type": "execute_result"
    }
   ],
   "source": [
    "y_train"
   ]
  },
  {
   "cell_type": "code",
   "execution_count": 209,
   "metadata": {},
   "outputs": [],
   "source": [
    "from keras.utils import to_categorical\n",
    "num_classes = 5\n",
    "y_train = y_train.tolist()\n",
    "y_valid = y_valid.tolist()\n",
    "y_train = to_categorical(y_train, 5)\n",
    "y_valid = to_categorical(y_valid, 5)\n"
   ]
  },
  {
   "cell_type": "code",
   "execution_count": 210,
   "metadata": {},
   "outputs": [
    {
     "data": {
      "text/plain": [
       "array([[0., 0., 0., 1., 0.],\n",
       "       [0., 0., 1., 0., 0.],\n",
       "       [0., 1., 0., 0., 0.],\n",
       "       ...,\n",
       "       [0., 0., 1., 0., 0.],\n",
       "       [1., 0., 0., 0., 0.],\n",
       "       [1., 0., 0., 0., 0.]], dtype=float32)"
      ]
     },
     "execution_count": 210,
     "metadata": {},
     "output_type": "execute_result"
    }
   ],
   "source": [
    "y_train"
   ]
  },
  {
   "cell_type": "code",
   "execution_count": 211,
   "metadata": {},
   "outputs": [
    {
     "name": "stdout",
     "output_type": "stream",
     "text": [
      "Model: \"sequential_7\"\n",
      "_________________________________________________________________\n",
      " Layer (type)                Output Shape              Param #   \n",
      "=================================================================\n",
      " conv2d_28 (Conv2D)          (None, 48, 48, 32)        320       \n",
      "                                                                 \n",
      " conv2d_29 (Conv2D)          (None, 48, 48, 32)        9248      \n",
      "                                                                 \n",
      " max_pooling2d_14 (MaxPoolin  (None, 24, 24, 32)       0         \n",
      " g2D)                                                            \n",
      "                                                                 \n",
      " dropout_21 (Dropout)        (None, 24, 24, 32)        0         \n",
      "                                                                 \n",
      " conv2d_30 (Conv2D)          (None, 24, 24, 64)        18496     \n",
      "                                                                 \n",
      " conv2d_31 (Conv2D)          (None, 24, 24, 64)        36928     \n",
      "                                                                 \n",
      " max_pooling2d_15 (MaxPoolin  (None, 12, 12, 64)       0         \n",
      " g2D)                                                            \n",
      "                                                                 \n",
      " dropout_22 (Dropout)        (None, 12, 12, 64)        0         \n",
      "                                                                 \n",
      " flatten_7 (Flatten)         (None, 9216)              0         \n",
      "                                                                 \n",
      " dense_14 (Dense)            (None, 128)               1179776   \n",
      "                                                                 \n",
      " dropout_23 (Dropout)        (None, 128)               0         \n",
      "                                                                 \n",
      " dense_15 (Dense)            (None, 5)                 645       \n",
      "                                                                 \n",
      "=================================================================\n",
      "Total params: 1,245,413\n",
      "Trainable params: 1,245,413\n",
      "Non-trainable params: 0\n",
      "_________________________________________________________________\n"
     ]
    }
   ],
   "source": [
    "from keras.models import Sequential\n",
    "from keras.layers import Dense, Dropout, Flatten, Conv2D, MaxPooling2D\n",
    "from tensorflow.keras.optimizers import Adam\n",
    "\n",
    "input_shape = (48,48,1)\n",
    "\n",
    "# Build and train the CNN\n",
    "model = Sequential()\n",
    "model.add(Conv2D(filters=32, kernel_size=(3, 3), activation='relu', kernel_initializer='he_uniform', padding='same', input_shape=input_shape))\n",
    "model.add(Conv2D(filters=32, kernel_size=(3, 3), activation='relu', kernel_initializer='he_uniform', padding='same'))\n",
    "model.add(MaxPooling2D(pool_size=(2, 2))) # outputs a matrix with half width and height\n",
    "model.add(Dropout(0.2)) # Dropout layers prevent overfitting, helping the model generalize\n",
    "\n",
    "model.add(Conv2D(filters=64, kernel_size=(3, 3), activation='relu', kernel_initializer='he_uniform', padding='same'))\n",
    "model.add(Conv2D(filters=64, kernel_size=(3, 3), activation='relu', kernel_initializer='he_uniform', padding='same'))\n",
    "model.add(MaxPooling2D(pool_size=(2, 2)))\n",
    "model.add(Dropout(0.2))\n",
    "\n",
    "model.add(Flatten())\n",
    "model.add(Dense(128, activation='relu'))\n",
    "model.add(Dropout(0.2))\n",
    "model.add(Dense(5, activation='softmax'))\n",
    "\n",
    "model.summary()"
   ]
  },
  {
   "cell_type": "code",
   "execution_count": 212,
   "metadata": {},
   "outputs": [
    {
     "name": "stdout",
     "output_type": "stream",
     "text": [
      "Epoch 1/30\n",
      "556/556 [==============================] - 107s 183ms/step - loss: 2.9461 - accuracy: 0.3651 - val_loss: 0.4679 - val_accuracy: 0.4193\n",
      "Epoch 2/30\n",
      "556/556 [==============================] - 101s 181ms/step - loss: 0.4305 - accuracy: 0.4650 - val_loss: 0.3734 - val_accuracy: 0.5423\n",
      "Epoch 3/30\n",
      "556/556 [==============================] - 102s 183ms/step - loss: 0.3911 - accuracy: 0.5157 - val_loss: 0.3470 - val_accuracy: 0.5709\n",
      "Epoch 4/30\n",
      "556/556 [==============================] - 99s 179ms/step - loss: 0.3627 - accuracy: 0.5566 - val_loss: 0.3224 - val_accuracy: 0.6013\n",
      "Epoch 5/30\n",
      "556/556 [==============================] - 97s 175ms/step - loss: 0.3464 - accuracy: 0.5824 - val_loss: 0.3131 - val_accuracy: 0.6288\n",
      "Epoch 6/30\n",
      "556/556 [==============================] - 96s 173ms/step - loss: 0.3342 - accuracy: 0.5974 - val_loss: 0.3021 - val_accuracy: 0.6396\n",
      "Epoch 7/30\n",
      "556/556 [==============================] - 94s 168ms/step - loss: 0.3239 - accuracy: 0.6111 - val_loss: 0.2937 - val_accuracy: 0.6626\n",
      "Epoch 8/30\n",
      "556/556 [==============================] - 94s 170ms/step - loss: 0.3167 - accuracy: 0.6247 - val_loss: 0.2928 - val_accuracy: 0.6457\n",
      "Epoch 9/30\n",
      "556/556 [==============================] - 98s 177ms/step - loss: 0.3085 - accuracy: 0.6311 - val_loss: 0.2884 - val_accuracy: 0.6565\n",
      "Epoch 10/30\n",
      "556/556 [==============================] - 95s 171ms/step - loss: 0.3027 - accuracy: 0.6410 - val_loss: 0.2853 - val_accuracy: 0.6653\n",
      "Epoch 11/30\n",
      "556/556 [==============================] - 96s 172ms/step - loss: 0.2992 - accuracy: 0.6436 - val_loss: 0.2844 - val_accuracy: 0.6720\n",
      "Epoch 12/30\n",
      "556/556 [==============================] - 93s 168ms/step - loss: 0.2939 - accuracy: 0.6504 - val_loss: 0.2848 - val_accuracy: 0.6565\n",
      "Epoch 13/30\n",
      "556/556 [==============================] - 100s 180ms/step - loss: 0.2921 - accuracy: 0.6538 - val_loss: 0.2850 - val_accuracy: 0.6583\n",
      "Epoch 14/30\n",
      "556/556 [==============================] - 111s 199ms/step - loss: 0.2855 - accuracy: 0.6622 - val_loss: 0.2835 - val_accuracy: 0.6649\n",
      "Epoch 15/30\n",
      "556/556 [==============================] - 101s 181ms/step - loss: 0.2840 - accuracy: 0.6611 - val_loss: 0.2728 - val_accuracy: 0.6813\n",
      "Epoch 16/30\n",
      "556/556 [==============================] - 101s 181ms/step - loss: 0.2772 - accuracy: 0.6776 - val_loss: 0.2720 - val_accuracy: 0.6798\n",
      "Epoch 17/30\n",
      "556/556 [==============================] - 98s 176ms/step - loss: 0.2733 - accuracy: 0.6783 - val_loss: 0.2763 - val_accuracy: 0.6816\n",
      "Epoch 18/30\n",
      "556/556 [==============================] - 101s 182ms/step - loss: 0.2677 - accuracy: 0.6908 - val_loss: 0.2750 - val_accuracy: 0.6835\n",
      "Epoch 19/30\n",
      "556/556 [==============================] - 98s 177ms/step - loss: 0.2656 - accuracy: 0.6898 - val_loss: 0.2679 - val_accuracy: 0.6848\n",
      "Epoch 20/30\n",
      "556/556 [==============================] - 100s 180ms/step - loss: 0.2574 - accuracy: 0.7036 - val_loss: 0.2792 - val_accuracy: 0.6783\n",
      "Epoch 21/30\n",
      "556/556 [==============================] - 99s 179ms/step - loss: 0.2592 - accuracy: 0.7010 - val_loss: 0.2647 - val_accuracy: 0.6946\n",
      "Epoch 22/30\n",
      "556/556 [==============================] - 96s 173ms/step - loss: 0.2533 - accuracy: 0.7103 - val_loss: 0.2767 - val_accuracy: 0.6723\n",
      "Epoch 23/30\n",
      "556/556 [==============================] - 92s 165ms/step - loss: 0.2473 - accuracy: 0.7205 - val_loss: 0.2644 - val_accuracy: 0.6909\n",
      "Epoch 24/30\n",
      "556/556 [==============================] - 95s 170ms/step - loss: 0.2414 - accuracy: 0.7268 - val_loss: 0.2702 - val_accuracy: 0.6855\n",
      "Epoch 25/30\n",
      "556/556 [==============================] - 96s 172ms/step - loss: 0.2390 - accuracy: 0.7332 - val_loss: 0.2737 - val_accuracy: 0.6933\n",
      "Epoch 26/30\n",
      "556/556 [==============================] - 95s 171ms/step - loss: 0.2328 - accuracy: 0.7391 - val_loss: 0.2683 - val_accuracy: 0.6955\n",
      "Epoch 27/30\n",
      "556/556 [==============================] - 99s 178ms/step - loss: 0.2299 - accuracy: 0.7433 - val_loss: 0.2827 - val_accuracy: 0.6909\n",
      "Epoch 28/30\n",
      "556/556 [==============================] - 106s 190ms/step - loss: 0.2260 - accuracy: 0.7492 - val_loss: 0.2728 - val_accuracy: 0.6980\n",
      "Epoch 29/30\n",
      "556/556 [==============================] - 97s 174ms/step - loss: 0.2206 - accuracy: 0.7595 - val_loss: 0.2688 - val_accuracy: 0.6907\n",
      "Epoch 30/30\n",
      "556/556 [==============================] - 99s 178ms/step - loss: 0.2171 - accuracy: 0.7631 - val_loss: 0.2758 - val_accuracy: 0.6993\n",
      "Test loss: 0.2758010923862457\n",
      "Test accuracy: 0.6993420124053955\n"
     ]
    }
   ],
   "source": [
    "batch_size = 32\n",
    "num_classes = 5\n",
    "epochs = 30\n",
    "\n",
    "opt = Adam(learning_rate=0.0005, beta_1=0.9, beta_2=0.999) # Adam is one good optimizer function; lr is the learning rate\n",
    "\n",
    "model.compile(loss='binary_crossentropy',\n",
    "              optimizer=opt,\n",
    "              metrics=['accuracy'])\n",
    "\n",
    "model.fit(X_train, y_train,\n",
    "          batch_size=batch_size,\n",
    "          epochs=epochs,\n",
    "          verbose=1,\n",
    "          validation_data=(X_valid, y_valid))\n",
    "score = model.evaluate(X_valid, y_valid, verbose=0)\n",
    "print('Test loss:', score[0])\n",
    "print('Test accuracy:', score[1])"
   ]
  },
  {
   "cell_type": "code",
   "execution_count": 215,
   "metadata": {},
   "outputs": [],
   "source": [
    "def prediction(image):\n",
    "    X_tst = []\n",
    "    a = np.expand_dims(image, axis = 2)\n",
    "    X_tst.append(a)\n",
    "    X_tst = np.asarray(X_tst)\n",
    "    X_tst = X_tst.astype('float32')\n",
    "    y = model.predict(X_tst)\n",
    "    a = max(y[0])\n",
    "    print(y[0])\n",
    "    if y[0][0] == a:\n",
    "        return \"child (0-9 years old)\"\n",
    "    elif y[0][1] == a:\n",
    "        return \"teenager (10 to 19 years old)\"\n",
    "    elif y[0][2] == a:\n",
    "        return \"young adult (20 to 30 years old)\"\n",
    "    elif y[0][3] == a:\n",
    "        return \"adult (30 to 60 years old)\"\n",
    "    elif y[0][4] == a:\n",
    "        return \"elder (61+ years old)\""
   ]
  },
  {
   "cell_type": "code",
   "execution_count": 240,
   "metadata": {},
   "outputs": [
    {
     "name": "stdout",
     "output_type": "stream",
     "text": [
      "1/1 [==============================] - 0s 409ms/step\n",
      "[3.85543808e-06 1.17229565e-05 9.99370158e-01 6.14290824e-04\n",
      " 1.16801191e-08]\n",
      "young adult (20 to 30 years old)\n"
     ]
    },
    {
     "data": {
      "image/png": "[encoded data removed]",
      "text/plain": [
       "<Figure size 640x480 with 1 Axes>"
      ]
     },
     "metadata": {},
     "output_type": "display_data"
    }
   ],
   "source": [
    "from PIL import Image\n",
    "im2 = Image.open(\"shera.jpg\", \"r\")\n",
    "pix_val = list(im2.getdata())\n",
    "imageArray = np.reshape(pix_val,(48,48))\n",
    "print(prediction(imageArray))\n",
    "plt.imshow(imageArray)\n",
    "plt.show()\n"
   ]
  }
 ],
 "metadata": {
  "kernelspec": {
   "display_name": "Python 3",
   "language": "python",
   "name": "python3"
  },
  "language_info": {
   "codemirror_mode": {
    "name": "ipython",
    "version": 3
   },
   "file_extension": ".py",
   "mimetype": "text/x-python",
   "name": "python",
   "nbconvert_exporter": "python",
   "pygments_lexer": "ipython3",
   "version": "3.9.5"
  },
  "orig_nbformat": 4,
  "vscode": {
   "interpreter": {
    "hash": "aee8b7b246df8f9039afb4144a1f6fd8d2ca17a180786b69acc140d282b71a49"
   }
  }
 },
 "nbformat": 4,
 "nbformat_minor": 2
}
